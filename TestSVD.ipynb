{
 "cells": [
  {
   "cell_type": "code",
   "execution_count": 2,
   "metadata": {},
   "outputs": [],
   "source": [
    "import pandas as pd\n",
    "from pandas import DataFrame\n",
    "import numpy as np\n",
    "import matplotlib.pyplot as plt\n",
    "from IPython.display import display, HTML # dùng để hiển thị \n",
    "%matplotlib inline \n",
    "import helper\n",
    "\n",
    "#All the header files required for the code\n",
    "from factor_analyzer import FactorAnalyzer\n",
    "import matplotlib.pyplot as plt\n",
    "from sklearn.cluster import KMeans\n",
    "from sklearn import metrics\n",
    "import random"
   ]
  },
  {
   "cell_type": "code",
   "execution_count": 3,
   "metadata": {},
   "outputs": [
    {
     "name": "stdout",
     "output_type": "stream",
     "text": [
      "Movies: 3883\n",
      "Ratings: 1000209\n",
      "Users: 6040\n"
     ]
    }
   ],
   "source": [
    "#Importing both the file using pandas \n",
    "movies = pd.read_csv('movies data/movies data.csv')\n",
    "ratings = pd.read_csv('movies data/ratings data.csv')\n",
    "users = pd.read_csv('movies data/users data.csv')\n",
    "#Deleting unnecessary columns\n",
    "movies = movies.drop('Unnamed: 0',axis = 1)\n",
    "ratings = ratings.drop(['Unnamed: 0','Timestamp'],axis = 1)\n",
    "users = users.drop(['Unnamed: 0'],axis = 1)\n",
    "\n",
    "print('Movies:',len(movies))\n",
    "print('Ratings:',len(ratings))\n",
    "print('Users:',len(users))"
   ]
  },
  {
   "cell_type": "code",
   "execution_count": 4,
   "metadata": {},
   "outputs": [
    {
     "name": "stdout",
     "output_type": "stream",
     "text": [
      "[[  5   0   0 ...   0   0   3]\n",
      " [243   2   0 ...   0   0   0]\n",
      " [230   5   0 ...   0   0   0]\n",
      " ...\n",
      " [174   4   0 ...   0   0   0]\n",
      " [210   4   0 ...   0   0   0]\n",
      " [215  13   0 ...   0   0   0]]\n"
     ]
    }
   ],
   "source": [
    "ratings_mat = np.ndarray(\n",
    "    shape=(np.max(ratings.MovieID.values), np.max(ratings.UserID.values)), dtype=np.uint8)\n",
    "ratings_mat[ratings.MovieID.values-1, ratings.UserID.values-1] = ratings.Rating.values\n",
    "print(ratings_mat)"
   ]
  },
  {
   "cell_type": "code",
   "execution_count": 5,
   "metadata": {},
   "outputs": [],
   "source": [
    "normalised_mat = ratings_mat - np.asarray([(np.mean(ratings_mat, 1))]).T"
   ]
  },
  {
   "cell_type": "code",
   "execution_count": 29,
   "metadata": {},
   "outputs": [],
   "source": [
    "A = normalised_mat.T / np.sqrt(ratings_mat.shape[0] - 1)\n",
    "U, S, V = np.linalg.svd(A)"
   ]
  },
  {
   "cell_type": "code",
   "execution_count": 32,
   "metadata": {},
   "outputs": [
    {
     "name": "stdout",
     "output_type": "stream",
     "text": [
      "6040\n",
      "3952\n",
      "3952\n"
     ]
    }
   ],
   "source": [
    "print(len(U))\n",
    "print(len(S))\n",
    "print(len(V))"
   ]
  },
  {
   "cell_type": "code",
   "execution_count": null,
   "metadata": {},
   "outputs": [],
   "source": [
    "from sklearn.metrics.pairwise import cosine_similarity\n",
    "# user similarity on replacing NAN by item(movie) avg\n",
    "cosine = cosine_similarity(final_movie)\n",
    "np.fill_diagonal(cosine, 0 )\n",
    "similarity_with_movie =pd.DataFrame(cosine,index=final_movie.index)\n",
    "similarity_with_movie.columns=final_user.index\n",
    "similarity_with_movie.head()"
   ]
  },
  {
   "cell_type": "code",
   "execution_count": 21,
   "metadata": {},
   "outputs": [],
   "source": [
    "# def cosine_similarity(data, movie_id, top_n=10):\n",
    "    \n",
    "\n",
    "def top_cosine_similarity(data, movie_id, top_n=10):\n",
    "    index = movie_id - 1 # Movie id starts from 1 in the dataset\n",
    "    movie_row = data[index, :]    \n",
    "    magnitude = np.sqrt(np.einsum('ij, ij -> i', data, data))\n",
    "    similarity = np.dot(movie_row, data.T) / (magnitude[index] * magnitude)\n",
    "    sort_indexes = np.argsort(-similarity)\n",
    "    return sort_indexes[:top_n]\n",
    "\n",
    "# Function to print top N similar movies\n",
    "def print_similar_movies(movie_data, movie_id, top_indexes):\n",
    "    print('Recommendations for {0}: \\n'.format(\n",
    "    movie_data[movie_data.MovieID == movie_id].Title.values[0]))\n",
    "    for id in top_indexes + 1:\n",
    "        print(movie_data[movie_data.MovieID == id].Title.values[0])"
   ]
  },
  {
   "cell_type": "code",
   "execution_count": 34,
   "metadata": {},
   "outputs": [
    {
     "name": "stdout",
     "output_type": "stream",
     "text": [
      "Recommendations for GoldenEye (1995): \n",
      "\n",
      "GoldenEye (1995)\n",
      "Daylight (1996)\n",
      "Heavy Metal (1981)\n",
      "Night of the Living Dead (1968)\n",
      "Dead Zone, The (1983)\n",
      "Far and Away (1992)\n",
      "Big (1988)\n",
      "Three Colors: White (1994)\n",
      "Bird on a Wire (1990)\n",
      "Heaven & Earth (1993)\n"
     ]
    }
   ],
   "source": [
    "#k-principal components to represent movies, movie_id to find recommendations, top_n print n results        \n",
    "k = 3952\n",
    "movie_id = 10 # (getting an id from movies.dat)\n",
    "top_n = 10\n",
    "sliced = V.T[:, :k] # representative data\n",
    "indexes = top_cosine_similarity(sliced, movie_id, top_n)\n",
    "\n",
    "#Printing the top N similar movies\n",
    "print_similar_movies(movies, movie_id, indexes)"
   ]
  },
  {
   "cell_type": "code",
   "execution_count": 36,
   "metadata": {},
   "outputs": [
    {
     "name": "stdout",
     "output_type": "stream",
     "text": [
      "[ 7.91783725e-17 -1.77694346e-17  1.91133363e-16 ...  4.75472899e-17\n",
      "  2.20363978e-17  9.39311838e-17]\n",
      "[   9  797  609 ... 3073 1957 2288]\n"
     ]
    }
   ],
   "source": [
    "data = sliced\n",
    "\n",
    "# chọn movie target\n",
    "index = movie_id - 1 # Movie id starts from 1 in the dataset\n",
    "\n",
    "movie_row = data[index, :]\n",
    "magnitude = np.sqrt(np.einsum('ij, ij -> i', data, data))\n",
    "similarity = np.dot(movie_row, data.T) / (magnitude[index] * magnitude)\n",
    "print(similarity)\n",
    "sort_indexes = np.argsort(-similarity)\n",
    "print(sort_indexes)\n",
    "# return sort_indexes[:top_n]\n"
   ]
  },
  {
   "cell_type": "code",
   "execution_count": null,
   "metadata": {},
   "outputs": [],
   "source": []
  },
  {
   "cell_type": "code",
   "execution_count": null,
   "metadata": {},
   "outputs": [],
   "source": []
  },
  {
   "cell_type": "code",
   "execution_count": null,
   "metadata": {},
   "outputs": [],
   "source": []
  }
 ],
 "metadata": {
  "kernelspec": {
   "display_name": "Python 3",
   "language": "python",
   "name": "python3"
  },
  "language_info": {
   "codemirror_mode": {
    "name": "ipython",
    "version": 3
   },
   "file_extension": ".py",
   "mimetype": "text/x-python",
   "name": "python",
   "nbconvert_exporter": "python",
   "pygments_lexer": "ipython3",
   "version": "3.8.5"
  }
 },
 "nbformat": 4,
 "nbformat_minor": 4
}
